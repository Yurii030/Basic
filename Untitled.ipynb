{
 "cells": [
  {
   "cell_type": "markdown",
   "id": "be239f57",
   "metadata": {},
   "source": [
    "## 파이썬 변수 및 데이터 타입\n",
    "- 데이터 저장 위치,공간\n",
    "- 정수(int), 문자(str,string)\n",
    "- 리스트(list,튜플(tuple),사전(dict,dictionary),if문,for문"
   ]
  },
  {
   "cell_type": "markdown",
   "id": "db75ce9d",
   "metadata": {},
   "source": [
    "## 변수(Variable)\n",
    "- 데이터를 저장하는 메모리 내의 공간 : placehoder"
   ]
  },
  {
   "cell_type": "code",
   "execution_count": 1,
   "id": "e5db13dc",
   "metadata": {},
   "outputs": [],
   "source": [
    "a=5 #a : 변수"
   ]
  },
  {
   "cell_type": "code",
   "execution_count": 2,
   "id": "208fe7b0",
   "metadata": {},
   "outputs": [
    {
     "data": {
      "text/plain": [
       "5"
      ]
     },
     "execution_count": 2,
     "metadata": {},
     "output_type": "execute_result"
    }
   ],
   "source": [
    "a"
   ]
  },
  {
   "cell_type": "code",
   "execution_count": 3,
   "id": "080e86e1",
   "metadata": {},
   "outputs": [
    {
     "data": {
      "text/plain": [
       "5"
      ]
     },
     "execution_count": 3,
     "metadata": {},
     "output_type": "execute_result"
    }
   ],
   "source": [
    "5"
   ]
  },
  {
   "cell_type": "code",
   "execution_count": 4,
   "id": "cdce21e9",
   "metadata": {},
   "outputs": [],
   "source": [
    "a,s,d =10,20,30"
   ]
  },
  {
   "cell_type": "code",
   "execution_count": 5,
   "id": "124b598c",
   "metadata": {},
   "outputs": [
    {
     "data": {
      "text/plain": [
       "10"
      ]
     },
     "execution_count": 5,
     "metadata": {},
     "output_type": "execute_result"
    }
   ],
   "source": [
    "a"
   ]
  },
  {
   "cell_type": "code",
   "execution_count": 7,
   "id": "14ecb322",
   "metadata": {},
   "outputs": [
    {
     "name": "stdout",
     "output_type": "stream",
     "text": [
      "10\n",
      "20\n",
      "30\n"
     ]
    }
   ],
   "source": [
    "print(a)\n",
    "print(s)\n",
    "print(d)"
   ]
  },
  {
   "cell_type": "code",
   "execution_count": 8,
   "id": "c98a4da0",
   "metadata": {},
   "outputs": [
    {
     "name": "stdout",
     "output_type": "stream",
     "text": [
      "10\n",
      "20\n",
      "30\n"
     ]
    }
   ],
   "source": [
    "print(a);print(s);print(d)"
   ]
  },
  {
   "cell_type": "markdown",
   "id": "2be01eb9",
   "metadata": {},
   "source": [
    "## 리스트(list)-> [,,,]대괄호\n",
    "- 여러항목의 집합체로 각 항목의 타입은 서로 달라도 된다.\n",
    "- 리스트를 만드려면 대괄호[]를 사용하고 각 항목들을','로 구분한다.\n",
    "- 자료 추가 삭제 및 변경 가능"
   ]
  },
  {
   "cell_type": "code",
   "execution_count": 9,
   "id": "fc3c5809",
   "metadata": {},
   "outputs": [],
   "source": [
    "lst = [1,2,3,'a','b']"
   ]
  },
  {
   "cell_type": "code",
   "execution_count": 10,
   "id": "30f031f2",
   "metadata": {},
   "outputs": [
    {
     "data": {
      "text/plain": [
       "[1, 2, 3, 'a', 'b']"
      ]
     },
     "execution_count": 10,
     "metadata": {},
     "output_type": "execute_result"
    }
   ],
   "source": [
    "lst"
   ]
  },
  {
   "cell_type": "markdown",
   "id": "43268b1c",
   "metadata": {},
   "source": [
    "## 인덱스 번호\n",
    "- lst = 1,2,가,나,다] 0번 인덱스 : 1 2번 인덱스:가 4번인덱스 : 다\n",
    "- 자료 추가 -> 변수명.append(자료) 자료 : 숫자(2), 문자('sdf'), 맨뒤에 실행할때마다 추가됨//원래 자료가 변경됨\n",
    "- 자료추가 -> 변수명.insert(인덱스,자료) : 인덱스위치,자료\n",
    "- 자료삭제 -> 변수명.remove(자료) 안에서 삭제하고자 하는 값이 여러 개가 있다 하더라도 첫번째 값에 대해서만 삭제 한다.\n",
    "- 자료 삭제(인덱스로) -> del변수명[인덱스 번호][0] : 첫번째,마지막[-1]\n"
   ]
  },
  {
   "cell_type": "code",
   "execution_count": 11,
   "id": "2c9257ed",
   "metadata": {},
   "outputs": [],
   "source": [
    "items =[1,2,3,4,5]"
   ]
  },
  {
   "cell_type": "code",
   "execution_count": 12,
   "id": "5223c363",
   "metadata": {},
   "outputs": [
    {
     "ename": "IndentationError",
     "evalue": "unexpected indent (Temp/ipykernel_21420/1695807202.py, line 2)",
     "output_type": "error",
     "traceback": [
      "\u001b[1;36m  File \u001b[1;32m\"C:\\Users\\taddy\\AppData\\Local\\Temp/ipykernel_21420/1695807202.py\"\u001b[1;36m, line \u001b[1;32m2\u001b[0m\n\u001b[1;33m    items\u001b[0m\n\u001b[1;37m    ^\u001b[0m\n\u001b[1;31mIndentationError\u001b[0m\u001b[1;31m:\u001b[0m unexpected indent\n"
     ]
    }
   ],
   "source": [
    "items.append(6) #list에서는 변수명. add 실행불가(set 자료형에 실행)\n",
    " items"
   ]
  },
  {
   "cell_type": "code",
   "execution_count": null,
   "id": "f93db8ac",
   "metadata": {},
   "outputs": [],
   "source": []
  }
 ],
 "metadata": {
  "kernelspec": {
   "display_name": "Python 3 (ipykernel)",
   "language": "python",
   "name": "python3"
  },
  "language_info": {
   "codemirror_mode": {
    "name": "ipython",
    "version": 3
   },
   "file_extension": ".py",
   "mimetype": "text/x-python",
   "name": "python",
   "nbconvert_exporter": "python",
   "pygments_lexer": "ipython3",
   "version": "3.9.7"
  }
 },
 "nbformat": 4,
 "nbformat_minor": 5
}
