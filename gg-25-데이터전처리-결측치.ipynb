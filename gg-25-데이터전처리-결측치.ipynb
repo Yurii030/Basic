{
 "cells": [
  {
   "cell_type": "markdown",
   "id": "fa5d6d5b",
   "metadata": {},
   "source": [
    "## 3. 데이터전처리"
   ]
  },
  {
   "cell_type": "code",
   "execution_count": 1,
   "id": "5e7288cf",
   "metadata": {},
   "outputs": [],
   "source": [
    "#결측치 처리\n",
    "import pandas as pd\n",
    "import numpy as np\n",
    "from numpy import nan as NA  #nan : not a number : 숫자가 아닌, NA: Not Available\n",
    "from pandas import DataFrame"
   ]
  },
  {
   "cell_type": "code",
   "execution_count": 2,
   "id": "806dfd3c",
   "metadata": {},
   "outputs": [
    {
     "name": "stdout",
     "output_type": "stream",
     "text": [
      "          0         1         2         3\n",
      "0  0.144972  0.164412  0.913026  0.825596\n",
      "1  0.919560  0.594843  0.490220  0.930514\n",
      "2  0.261450  0.781272  0.615824  0.951320\n"
     ]
    }
   ],
   "source": [
    "df = pd.DataFrame(np.random.rand(3,4))\n",
    "print(df)"
   ]
  },
  {
   "cell_type": "code",
   "execution_count": 3,
   "id": "993455d1",
   "metadata": {},
   "outputs": [
    {
     "data": {
      "text/plain": [
       "0    0.164412\n",
       "1    0.594843\n",
       "2    0.781272\n",
       "Name: 1, dtype: float64"
      ]
     },
     "execution_count": 3,
     "metadata": {},
     "output_type": "execute_result"
    }
   ],
   "source": [
    "df[1] #dataframe에서는 열이 중요하다."
   ]
  },
  {
   "cell_type": "code",
   "execution_count": 6,
   "id": "7083fef7",
   "metadata": {},
   "outputs": [
    {
     "data": {
      "text/plain": [
       "0    0.825596\n",
       "1    0.930514\n",
       "2    0.951320\n",
       "Name: 3, dtype: float64"
      ]
     },
     "execution_count": 6,
     "metadata": {},
     "output_type": "execute_result"
    }
   ],
   "source": [
    "df[3] #3인덱스 열"
   ]
  },
  {
   "cell_type": "code",
   "execution_count": 7,
   "id": "47a41754",
   "metadata": {},
   "outputs": [
    {
     "data": {
      "text/plain": [
       "(0    0.164412\n",
       " 1    0.594843\n",
       " 2    0.781272\n",
       " Name: 1, dtype: float64,\n",
       " [2])"
      ]
     },
     "execution_count": 7,
     "metadata": {},
     "output_type": "execute_result"
    }
   ],
   "source": [
    "df[1],[2] "
   ]
  },
  {
   "cell_type": "code",
   "execution_count": 8,
   "id": "9a3cc7e3",
   "metadata": {},
   "outputs": [
    {
     "data": {
      "text/plain": [
       "(0    0.825596\n",
       " 1    0.930514\n",
       " 2    0.951320\n",
       " Name: 3, dtype: float64,\n",
       " [1])"
      ]
     },
     "execution_count": 8,
     "metadata": {},
     "output_type": "execute_result"
    }
   ],
   "source": [
    "df[3],[1]"
   ]
  },
  {
   "cell_type": "code",
   "execution_count": 9,
   "id": "59d39f2a",
   "metadata": {},
   "outputs": [
    {
     "data": {
      "text/plain": [
       "(0    0.825596\n",
       " 1    0.930514\n",
       " 2    0.951320\n",
       " Name: 3, dtype: float64,\n",
       " [2])"
      ]
     },
     "execution_count": 9,
     "metadata": {},
     "output_type": "execute_result"
    }
   ],
   "source": [
    "df[3],[2]"
   ]
  },
  {
   "cell_type": "code",
   "execution_count": 10,
   "id": "dfce7215",
   "metadata": {},
   "outputs": [
    {
     "data": {
      "text/html": [
       "<div>\n",
       "<style scoped>\n",
       "    .dataframe tbody tr th:only-of-type {\n",
       "        vertical-align: middle;\n",
       "    }\n",
       "\n",
       "    .dataframe tbody tr th {\n",
       "        vertical-align: top;\n",
       "    }\n",
       "\n",
       "    .dataframe thead th {\n",
       "        text-align: right;\n",
       "    }\n",
       "</style>\n",
       "<table border=\"1\" class=\"dataframe\">\n",
       "  <thead>\n",
       "    <tr style=\"text-align: right;\">\n",
       "      <th></th>\n",
       "      <th>0</th>\n",
       "      <th>1</th>\n",
       "      <th>2</th>\n",
       "      <th>3</th>\n",
       "    </tr>\n",
       "  </thead>\n",
       "  <tbody>\n",
       "    <tr>\n",
       "      <th>0</th>\n",
       "      <td>0.144972</td>\n",
       "      <td>0.164412</td>\n",
       "      <td>0.913026</td>\n",
       "      <td>0.825596</td>\n",
       "    </tr>\n",
       "    <tr>\n",
       "      <th>1</th>\n",
       "      <td>0.919560</td>\n",
       "      <td>0.594843</td>\n",
       "      <td>0.490220</td>\n",
       "      <td>0.930514</td>\n",
       "    </tr>\n",
       "    <tr>\n",
       "      <th>2</th>\n",
       "      <td>0.261450</td>\n",
       "      <td>0.781272</td>\n",
       "      <td>0.615824</td>\n",
       "      <td>0.951320</td>\n",
       "    </tr>\n",
       "  </tbody>\n",
       "</table>\n",
       "</div>"
      ],
      "text/plain": [
       "          0         1         2         3\n",
       "0  0.144972  0.164412  0.913026  0.825596\n",
       "1  0.919560  0.594843  0.490220  0.930514\n",
       "2  0.261450  0.781272  0.615824  0.951320"
      ]
     },
     "execution_count": 10,
     "metadata": {},
     "output_type": "execute_result"
    }
   ],
   "source": [
    "df"
   ]
  },
  {
   "cell_type": "code",
   "execution_count": 14,
   "id": "e62af048",
   "metadata": {},
   "outputs": [
    {
     "data": {
      "text/plain": [
       "0.7812723539652559"
      ]
     },
     "execution_count": 14,
     "metadata": {},
     "output_type": "execute_result"
    }
   ],
   "source": [
    "df[1][2] #변수[열 인덱스][행 인덱스]"
   ]
  },
  {
   "cell_type": "code",
   "execution_count": 13,
   "id": "183ecf25",
   "metadata": {},
   "outputs": [
    {
     "data": {
      "text/plain": [
       "0.9305139260059981"
      ]
     },
     "execution_count": 13,
     "metadata": {},
     "output_type": "execute_result"
    }
   ],
   "source": [
    "df[3][1]"
   ]
  },
  {
   "cell_type": "code",
   "execution_count": 15,
   "id": "4a07e10b",
   "metadata": {},
   "outputs": [
    {
     "name": "stdout",
     "output_type": "stream",
     "text": [
      "          0         1         2         3\n",
      "0  0.144972  0.164412  0.913026  0.825596\n",
      "1  0.919560  0.594843  0.490220       NaN\n",
      "2  0.261450       NaN  0.615824  0.951320\n"
     ]
    }
   ],
   "source": [
    "df[1][2] = np.nan\n",
    "df[3][1] = np.nan #변수[열],[행] 즉 3인덱스 열 1인덱스 행에 자료를 NaN처리\n",
    "print(df)"
   ]
  },
  {
   "cell_type": "code",
   "execution_count": 16,
   "id": "64b1737c",
   "metadata": {},
   "outputs": [
    {
     "name": "stdout",
     "output_type": "stream",
     "text": [
      "          0         1         2         3\n",
      "0  0.144972  0.164412  0.913026  0.825596\n"
     ]
    }
   ],
   "source": [
    "cleaned = df.dropna() # dropna() - 기본적으로 Nan이 하나라도 들어있는 행을 삭제\n",
    "print(cleaned)"
   ]
  },
  {
   "cell_type": "code",
   "execution_count": 17,
   "id": "cbd3d944",
   "metadata": {},
   "outputs": [
    {
     "name": "stdout",
     "output_type": "stream",
     "text": [
      "          0         1         2         3\n",
      "0  0.144972  0.164412  0.913026  0.825596\n",
      "1  0.919560  0.594843  0.490220  0.000000\n",
      "2  0.261450  0.000000  0.615824  0.951320\n"
     ]
    }
   ],
   "source": [
    "df_2=df.fillna(0) #fillna(0) 적절한 값, ()안의 값으로 자료를 대체\n",
    "print(df_2)"
   ]
  },
  {
   "cell_type": "code",
   "execution_count": 18,
   "id": "932b40d2",
   "metadata": {},
   "outputs": [
    {
     "data": {
      "text/plain": [
       "0    0.441994\n",
       "1    0.253085\n",
       "2    0.673023\n",
       "3    0.592305\n",
       "dtype: float64"
      ]
     },
     "execution_count": 18,
     "metadata": {},
     "output_type": "execute_result"
    }
   ],
   "source": [
    "data = df_2.mean() #mean() 평균을 구함 -> 열기준으로\n",
    "data"
   ]
  },
  {
   "cell_type": "code",
   "execution_count": 19,
   "id": "12cff106",
   "metadata": {},
   "outputs": [
    {
     "data": {
      "text/plain": [
       "0    0.512001\n",
       "1    0.501156\n",
       "2    0.457149\n",
       "dtype: float64"
      ]
     },
     "execution_count": 19,
     "metadata": {},
     "output_type": "execute_result"
    }
   ],
   "source": [
    "data = df_2.mean(axis =1) # 행(axis-=1) 기준으로 평균을 구함\n",
    "data"
   ]
  },
  {
   "cell_type": "code",
   "execution_count": 20,
   "id": "34f56c1a",
   "metadata": {},
   "outputs": [
    {
     "data": {
      "text/plain": [
       "0.4901019890577114"
      ]
     },
     "execution_count": 20,
     "metadata": {},
     "output_type": "execute_result"
    }
   ],
   "source": [
    "k= data.mean() #전체 평균\n",
    "k"
   ]
  },
  {
   "cell_type": "code",
   "execution_count": 21,
   "id": "d84ae339",
   "metadata": {},
   "outputs": [
    {
     "name": "stdout",
     "output_type": "stream",
     "text": [
      "          0         1         2         3\n",
      "0  0.144972  0.164412  0.913026  0.825596\n",
      "1  0.919560  0.594843  0.490220  0.000000\n",
      "2  0.261450  0.000000  0.615824  0.951320\n"
     ]
    }
   ],
   "source": [
    "print(df_2)"
   ]
  },
  {
   "cell_type": "code",
   "execution_count": 22,
   "id": "1613a822",
   "metadata": {},
   "outputs": [
    {
     "data": {
      "text/html": [
       "<div>\n",
       "<style scoped>\n",
       "    .dataframe tbody tr th:only-of-type {\n",
       "        vertical-align: middle;\n",
       "    }\n",
       "\n",
       "    .dataframe tbody tr th {\n",
       "        vertical-align: top;\n",
       "    }\n",
       "\n",
       "    .dataframe thead th {\n",
       "        text-align: right;\n",
       "    }\n",
       "</style>\n",
       "<table border=\"1\" class=\"dataframe\">\n",
       "  <thead>\n",
       "    <tr style=\"text-align: right;\">\n",
       "      <th></th>\n",
       "      <th>0</th>\n",
       "      <th>1</th>\n",
       "      <th>2</th>\n",
       "      <th>3</th>\n",
       "    </tr>\n",
       "  </thead>\n",
       "  <tbody>\n",
       "    <tr>\n",
       "      <th>0</th>\n",
       "      <td>0.144972</td>\n",
       "      <td>0.164412</td>\n",
       "      <td>0.913026</td>\n",
       "      <td>0.825596</td>\n",
       "    </tr>\n",
       "    <tr>\n",
       "      <th>1</th>\n",
       "      <td>0.919560</td>\n",
       "      <td>0.594843</td>\n",
       "      <td>0.490220</td>\n",
       "      <td>0.490102</td>\n",
       "    </tr>\n",
       "    <tr>\n",
       "      <th>2</th>\n",
       "      <td>0.261450</td>\n",
       "      <td>0.490102</td>\n",
       "      <td>0.615824</td>\n",
       "      <td>0.951320</td>\n",
       "    </tr>\n",
       "  </tbody>\n",
       "</table>\n",
       "</div>"
      ],
      "text/plain": [
       "          0         1         2         3\n",
       "0  0.144972  0.164412  0.913026  0.825596\n",
       "1  0.919560  0.594843  0.490220  0.490102\n",
       "2  0.261450  0.490102  0.615824  0.951320"
      ]
     },
     "execution_count": 22,
     "metadata": {},
     "output_type": "execute_result"
    }
   ],
   "source": [
    "data2 = df.fillna(data.mean()) #전체평균으로 대체\n",
    "data2"
   ]
  },
  {
   "cell_type": "code",
   "execution_count": 27,
   "id": "7907f67c",
   "metadata": {},
   "outputs": [
    {
     "name": "stdout",
     "output_type": "stream",
     "text": [
      "          0         1         2         3\n",
      "0  0.144972  0.164412  0.913026  0.825596\n",
      "1  0.919560  0.594843  0.490220       NaN\n",
      "2  0.261450       NaN  0.615824  0.951320\n"
     ]
    }
   ],
   "source": [
    "df[1][2] = np.nan\n",
    "print (df)"
   ]
  },
  {
   "cell_type": "code",
   "execution_count": 28,
   "id": "f2d3259e",
   "metadata": {},
   "outputs": [
    {
     "name": "stdout",
     "output_type": "stream",
     "text": [
      "          0         1         2         3\n",
      "0  0.144972  0.164412  0.913026  0.825596\n",
      "1  0.919560  0.594843  0.490220  0.825596\n",
      "2  0.261450  0.594843  0.615824  0.951320\n"
     ]
    }
   ],
   "source": [
    "#열기준 바로 앞(forward)자료로 대체\n",
    "df_2 = df.fillna(method='ffill')\n",
    "print(df_2)"
   ]
  },
  {
   "cell_type": "code",
   "execution_count": null,
   "id": "42d4a23d",
   "metadata": {},
   "outputs": [],
   "source": []
  }
 ],
 "metadata": {
  "kernelspec": {
   "display_name": "Python 3 (ipykernel)",
   "language": "python",
   "name": "python3"
  },
  "language_info": {
   "codemirror_mode": {
    "name": "ipython",
    "version": 3
   },
   "file_extension": ".py",
   "mimetype": "text/x-python",
   "name": "python",
   "nbconvert_exporter": "python",
   "pygments_lexer": "ipython3",
   "version": "3.9.7"
  }
 },
 "nbformat": 4,
 "nbformat_minor": 5
}
